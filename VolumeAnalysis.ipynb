{
 "cells": [
  {
   "cell_type": "code",
   "execution_count": 1,
   "metadata": {
    "collapsed": true,
    "pycharm": {
     "is_executing": false
    }
   },
   "outputs": [
    {
     "name": "stderr",
     "text": [
      "D:\\ProgramData\\Anaconda3\\lib\\site-packages\\IPython\\core\\interactiveshell.py:3326: DtypeWarning: Columns (6) have mixed types. Specify dtype option on import or set low_memory=False.\n",
      "  exec(code_obj, self.user_global_ns, self.user_ns)\n",
      "D:\\ProgramData\\Anaconda3\\lib\\site-packages\\pandas\\core\\strings.py:1843: UserWarning: This pattern has match groups. To actually get the groups, use str.extract.\n",
      "  return func(self, *args, **kwargs)\n"
     ],
     "output_type": "stream"
    },
    {
     "data": {
      "text/plain": "  PATIENT_ID VISIT_DATE SEX            DIAG_DESC  \\\n0   97251747   2016/1/1   女                  抑郁症   \n1   96326999   2016/1/1   女     精神分裂症；抑郁症；双相情感障碍   \n2   98762271   2016/1/1   男               焦虑抑郁状态   \n3   98545813   2016/1/1   女          抑郁症；躯体化形式障碍   \n6   98781460   2016/1/1   男  双相情感障碍；精神分裂样精神病；抑郁症   \n\n                        ILLNESS_DESC  AGE  \n0                         服药1年，病情稳定。   61  \n1                       发呆自笑、自言自语2月。   35  \n2                      情绪低落、紧张、害怕3月。   48  \n3  服药后喉咙干涩、烧灼感减轻，仍感嘴里发辣、涩，情绪好转，能干家务。   57  \n6                   间断言行异常10余年，再发3天。   36  ",
      "text/html": "<div>\n<style scoped>\n    .dataframe tbody tr th:only-of-type {\n        vertical-align: middle;\n    }\n\n    .dataframe tbody tr th {\n        vertical-align: top;\n    }\n\n    .dataframe thead th {\n        text-align: right;\n    }\n</style>\n<table border=\"1\" class=\"dataframe\">\n  <thead>\n    <tr style=\"text-align: right;\">\n      <th></th>\n      <th>PATIENT_ID</th>\n      <th>VISIT_DATE</th>\n      <th>SEX</th>\n      <th>DIAG_DESC</th>\n      <th>ILLNESS_DESC</th>\n      <th>AGE</th>\n    </tr>\n  </thead>\n  <tbody>\n    <tr>\n      <td>0</td>\n      <td>97251747</td>\n      <td>2016/1/1</td>\n      <td>女</td>\n      <td>抑郁症</td>\n      <td>服药1年，病情稳定。</td>\n      <td>61</td>\n    </tr>\n    <tr>\n      <td>1</td>\n      <td>96326999</td>\n      <td>2016/1/1</td>\n      <td>女</td>\n      <td>精神分裂症；抑郁症；双相情感障碍</td>\n      <td>发呆自笑、自言自语2月。</td>\n      <td>35</td>\n    </tr>\n    <tr>\n      <td>2</td>\n      <td>98762271</td>\n      <td>2016/1/1</td>\n      <td>男</td>\n      <td>焦虑抑郁状态</td>\n      <td>情绪低落、紧张、害怕3月。</td>\n      <td>48</td>\n    </tr>\n    <tr>\n      <td>3</td>\n      <td>98545813</td>\n      <td>2016/1/1</td>\n      <td>女</td>\n      <td>抑郁症；躯体化形式障碍</td>\n      <td>服药后喉咙干涩、烧灼感减轻，仍感嘴里发辣、涩，情绪好转，能干家务。</td>\n      <td>57</td>\n    </tr>\n    <tr>\n      <td>6</td>\n      <td>98781460</td>\n      <td>2016/1/1</td>\n      <td>男</td>\n      <td>双相情感障碍；精神分裂样精神病；抑郁症</td>\n      <td>间断言行异常10余年，再发3天。</td>\n      <td>36</td>\n    </tr>\n  </tbody>\n</table>\n</div>"
     },
     "metadata": {},
     "output_type": "execute_result",
     "execution_count": 1
    }
   ],
   "source": [
    "from utils import *\n",
    "from Analyzer.VolumeAnalyzer import VolumeAnalyzer\n",
    "data = batch_read()\n",
    "data.head()"
   ]
  },
  {
   "cell_type": "code",
   "execution_count": 2,
   "outputs": [],
   "source": [
    "analyzer = VolumeAnalyzer()"
   ],
   "metadata": {
    "collapsed": false,
    "pycharm": {
     "name": "#%%\n",
     "is_executing": false
    }
   }
  },
  {
   "cell_type": "code",
   "execution_count": 3,
   "outputs": [
    {
     "data": {
      "text/plain": "        date  volume  week  year  month  day\n0   2016/1/1      36     5  2016      1    1\n1  2016/1/10      22     7  2016      1   10\n2  2016/1/11      80     1  2016      1   11\n3  2016/1/12      73     2  2016      1   12\n4  2016/1/13      86     3  2016      1   13",
      "text/html": "<div>\n<style scoped>\n    .dataframe tbody tr th:only-of-type {\n        vertical-align: middle;\n    }\n\n    .dataframe tbody tr th {\n        vertical-align: top;\n    }\n\n    .dataframe thead th {\n        text-align: right;\n    }\n</style>\n<table border=\"1\" class=\"dataframe\">\n  <thead>\n    <tr style=\"text-align: right;\">\n      <th></th>\n      <th>date</th>\n      <th>volume</th>\n      <th>week</th>\n      <th>year</th>\n      <th>month</th>\n      <th>day</th>\n    </tr>\n  </thead>\n  <tbody>\n    <tr>\n      <td>0</td>\n      <td>2016/1/1</td>\n      <td>36</td>\n      <td>5</td>\n      <td>2016</td>\n      <td>1</td>\n      <td>1</td>\n    </tr>\n    <tr>\n      <td>1</td>\n      <td>2016/1/10</td>\n      <td>22</td>\n      <td>7</td>\n      <td>2016</td>\n      <td>1</td>\n      <td>10</td>\n    </tr>\n    <tr>\n      <td>2</td>\n      <td>2016/1/11</td>\n      <td>80</td>\n      <td>1</td>\n      <td>2016</td>\n      <td>1</td>\n      <td>11</td>\n    </tr>\n    <tr>\n      <td>3</td>\n      <td>2016/1/12</td>\n      <td>73</td>\n      <td>2</td>\n      <td>2016</td>\n      <td>1</td>\n      <td>12</td>\n    </tr>\n    <tr>\n      <td>4</td>\n      <td>2016/1/13</td>\n      <td>86</td>\n      <td>3</td>\n      <td>2016</td>\n      <td>1</td>\n      <td>13</td>\n    </tr>\n  </tbody>\n</table>\n</div>"
     },
     "metadata": {},
     "output_type": "execute_result",
     "execution_count": 3
    }
   ],
   "source": [
    "vol = VolumeAnalyzer.get_outpatient_volume(data, sex = 'male')\n",
    "vol.head()"
   ],
   "metadata": {
    "collapsed": false,
    "pycharm": {
     "name": "#%%\n",
     "is_executing": false
    }
   }
  },
  {
   "cell_type": "code",
   "execution_count": 4,
   "outputs": [
    {
     "name": "stdout",
     "text": [
      "week\n",
      "1    57.259843\n",
      "2    75.031496\n",
      "3    52.700787\n",
      "4    73.653543\n",
      "5    61.367188\n",
      "6    36.164062\n",
      "7    22.952756\n",
      "Name: volume, dtype: float64\n",
      "day\n",
      "1     50.724138\n",
      "2     51.137931\n",
      "3     47.933333\n",
      "4     48.933333\n",
      "5     49.833333\n",
      "6     49.600000\n",
      "7     56.103448\n",
      "8     53.379310\n",
      "9     52.379310\n",
      "10    48.689655\n",
      "11    54.448276\n",
      "12    56.448276\n",
      "13    58.344828\n",
      "14    58.333333\n",
      "15    52.827586\n",
      "16    53.448276\n",
      "17    53.655172\n",
      "18    55.310345\n",
      "19    55.724138\n",
      "20    59.000000\n",
      "21    58.517241\n",
      "22    58.133333\n",
      "23    56.033333\n",
      "24    54.366667\n",
      "25    54.600000\n",
      "26    55.533333\n",
      "27    56.620690\n",
      "28    57.965517\n",
      "29    56.851852\n",
      "30    50.653846\n",
      "31    52.437500\n",
      "Name: volume, dtype: float64\n",
      "month\n",
      "1     56.227273\n",
      "2     61.710145\n",
      "3     60.096774\n",
      "4     54.455556\n",
      "5     52.935484\n",
      "6     51.866667\n",
      "7     48.064516\n",
      "8     52.370968\n",
      "9     51.116667\n",
      "10    43.951613\n",
      "11    50.466667\n",
      "12    63.112903\n",
      "Name: volume, dtype: float64\n"
     ],
     "output_type": "stream"
    }
   ],
   "source": [
    "import numpy as np\n",
    "vol = VolumeAnalyzer.get_outpatient_volume(data, sex = 'male')\n",
    "weekgrouped = vol.groupby('week')\n",
    "print(weekgrouped['volume'].agg(np.mean))\n",
    "daygrouped = vol.groupby('day')\n",
    "print(daygrouped['volume'].agg(np.mean))\n",
    "monthgrouped = vol.groupby('month')\n",
    "print(monthgrouped['volume'].agg(np.mean))"
   ],
   "metadata": {
    "collapsed": false,
    "pycharm": {
     "name": "#%%\n",
     "is_executing": false
    }
   }
  },
  {
   "cell_type": "code",
   "execution_count": 5,
   "outputs": [
    {
     "name": "stdout",
     "text": [
      "week\n",
      "1     79.078740\n",
      "2    105.039370\n",
      "3     75.157480\n",
      "4    101.236220\n",
      "5     86.851562\n",
      "6     46.351562\n",
      "7     29.496063\n",
      "Name: volume, dtype: float64\n",
      "day\n",
      "1     69.344828\n",
      "2     72.034483\n",
      "3     66.533333\n",
      "4     64.500000\n",
      "5     68.633333\n",
      "6     73.866667\n",
      "7     78.172414\n",
      "8     80.034483\n",
      "9     73.206897\n",
      "10    67.793103\n",
      "11    74.620690\n",
      "12    78.931034\n",
      "13    77.000000\n",
      "14    77.100000\n",
      "15    74.551724\n",
      "16    74.586207\n",
      "17    73.655172\n",
      "18    78.172414\n",
      "19    75.689655\n",
      "20    79.965517\n",
      "21    82.896552\n",
      "22    81.100000\n",
      "23    76.300000\n",
      "24    71.633333\n",
      "25    73.800000\n",
      "26    75.033333\n",
      "27    77.413793\n",
      "28    80.931034\n",
      "29    75.703704\n",
      "30    69.692308\n",
      "31    73.062500\n",
      "Name: volume, dtype: float64\n",
      "month\n",
      "1     75.965909\n",
      "2     83.884058\n",
      "3     83.161290\n",
      "4     75.733333\n",
      "5     76.075269\n",
      "6     73.111111\n",
      "7     64.338710\n",
      "8     72.661290\n",
      "9     72.850000\n",
      "10    62.532258\n",
      "11    72.683333\n",
      "12    77.419355\n",
      "Name: volume, dtype: float64\n"
     ],
     "output_type": "stream"
    }
   ],
   "source": [
    "vol = VolumeAnalyzer.get_outpatient_volume(data, sex = 'female')\n",
    "weekgrouped = vol.groupby('week')\n",
    "print(weekgrouped['volume'].agg(np.mean))\n",
    "daygrouped = vol.groupby('day')\n",
    "print(daygrouped['volume'].agg(np.mean))\n",
    "monthgrouped = vol.groupby('month')\n",
    "print(monthgrouped['volume'].agg(np.mean))\n"
   ],
   "metadata": {
    "collapsed": false,
    "pycharm": {
     "name": "#%%\n",
     "is_executing": false
    }
   }
  },
  {
   "cell_type": "code",
   "execution_count": null,
   "outputs": [],
   "source": [
    "\n"
   ],
   "metadata": {
    "collapsed": false,
    "pycharm": {
     "name": "#%%\n"
    }
   }
  }
 ],
 "metadata": {
  "kernelspec": {
   "display_name": "Python 3",
   "language": "python",
   "name": "python3"
  },
  "language_info": {
   "codemirror_mode": {
    "name": "ipython",
    "version": 2
   },
   "file_extension": ".py",
   "mimetype": "text/x-python",
   "name": "python",
   "nbconvert_exporter": "python",
   "pygments_lexer": "ipython2",
   "version": "2.7.6"
  },
  "pycharm": {
   "stem_cell": {
    "cell_type": "raw",
    "source": [],
    "metadata": {
     "collapsed": false
    }
   }
  }
 },
 "nbformat": 4,
 "nbformat_minor": 0
}