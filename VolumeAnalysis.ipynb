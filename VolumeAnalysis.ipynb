{
 "cells": [
  {
   "cell_type": "code",
   "execution_count": 1,
   "metadata": {
    "collapsed": true,
    "pycharm": {
     "is_executing": false
    }
   },
   "outputs": [
    {
     "name": "stderr",
     "text": [
      "D:\\ProgramData\\Anaconda3\\lib\\site-packages\\IPython\\core\\interactiveshell.py:3326: DtypeWarning: Columns (6) have mixed types. Specify dtype option on import or set low_memory=False.\n",
      "  exec(code_obj, self.user_global_ns, self.user_ns)\n",
      "D:\\ProgramData\\Anaconda3\\lib\\site-packages\\pandas\\core\\strings.py:1843: UserWarning: This pattern has match groups. To actually get the groups, use str.extract.\n",
      "  return func(self, *args, **kwargs)\n"
     ],
     "output_type": "stream"
    },
    {
     "data": {
      "text/plain": "        date  volume  week\n0   2016/1/1      89     5\n1  2016/1/10      34     7\n2  2016/1/11     179     1\n3  2016/1/12     179     2\n4  2016/1/13     159     3",
      "text/html": "<div>\n<style scoped>\n    .dataframe tbody tr th:only-of-type {\n        vertical-align: middle;\n    }\n\n    .dataframe tbody tr th {\n        vertical-align: top;\n    }\n\n    .dataframe thead th {\n        text-align: right;\n    }\n</style>\n<table border=\"1\" class=\"dataframe\">\n  <thead>\n    <tr style=\"text-align: right;\">\n      <th></th>\n      <th>date</th>\n      <th>volume</th>\n      <th>week</th>\n    </tr>\n  </thead>\n  <tbody>\n    <tr>\n      <td>0</td>\n      <td>2016/1/1</td>\n      <td>89</td>\n      <td>5</td>\n    </tr>\n    <tr>\n      <td>1</td>\n      <td>2016/1/10</td>\n      <td>34</td>\n      <td>7</td>\n    </tr>\n    <tr>\n      <td>2</td>\n      <td>2016/1/11</td>\n      <td>179</td>\n      <td>1</td>\n    </tr>\n    <tr>\n      <td>3</td>\n      <td>2016/1/12</td>\n      <td>179</td>\n      <td>2</td>\n    </tr>\n    <tr>\n      <td>4</td>\n      <td>2016/1/13</td>\n      <td>159</td>\n      <td>3</td>\n    </tr>\n  </tbody>\n</table>\n</div>"
     },
     "metadata": {},
     "output_type": "execute_result",
     "execution_count": 1
    }
   ],
   "source": [
    "from utils import *\n",
    "from Analyzer.VolumeAnalyzer import VolumeAnalyzer\n",
    "data = batch_read()\n",
    "analyzer = VolumeAnalyzer(data)\n",
    "vol = analyzer.get_volume()\n",
    "vol.head()"
   ]
  },
  {
   "cell_type": "code",
   "execution_count": 4,
   "outputs": [
    {
     "data": {
      "text/plain": "         date  volume\n886  2018/6/5     204\n887  2018/6/6     128\n888  2018/6/7     177\n889  2018/6/8     147\n890  2018/6/9      82",
      "text/html": "<div>\n<style scoped>\n    .dataframe tbody tr th:only-of-type {\n        vertical-align: middle;\n    }\n\n    .dataframe tbody tr th {\n        vertical-align: top;\n    }\n\n    .dataframe thead th {\n        text-align: right;\n    }\n</style>\n<table border=\"1\" class=\"dataframe\">\n  <thead>\n    <tr style=\"text-align: right;\">\n      <th></th>\n      <th>date</th>\n      <th>volume</th>\n    </tr>\n  </thead>\n  <tbody>\n    <tr>\n      <td>886</td>\n      <td>2018/6/5</td>\n      <td>204</td>\n    </tr>\n    <tr>\n      <td>887</td>\n      <td>2018/6/6</td>\n      <td>128</td>\n    </tr>\n    <tr>\n      <td>888</td>\n      <td>2018/6/7</td>\n      <td>177</td>\n    </tr>\n    <tr>\n      <td>889</td>\n      <td>2018/6/8</td>\n      <td>147</td>\n    </tr>\n    <tr>\n      <td>890</td>\n      <td>2018/6/9</td>\n      <td>82</td>\n    </tr>\n  </tbody>\n</table>\n</div>"
     },
     "metadata": {},
     "output_type": "execute_result",
     "execution_count": 4
    }
   ],
   "source": [],
   "metadata": {
    "collapsed": false,
    "pycharm": {
     "name": "#%%\n",
     "is_executing": false
    }
   }
  },
  {
   "cell_type": "code",
   "execution_count": null,
   "outputs": [],
   "source": [
    "\n"
   ],
   "metadata": {
    "collapsed": false,
    "pycharm": {
     "name": "#%%\n"
    }
   }
  }
 ],
 "metadata": {
  "kernelspec": {
   "display_name": "Python 3",
   "language": "python",
   "name": "python3"
  },
  "language_info": {
   "codemirror_mode": {
    "name": "ipython",
    "version": 2
   },
   "file_extension": ".py",
   "mimetype": "text/x-python",
   "name": "python",
   "nbconvert_exporter": "python",
   "pygments_lexer": "ipython2",
   "version": "2.7.6"
  },
  "pycharm": {
   "stem_cell": {
    "cell_type": "raw",
    "source": [],
    "metadata": {
     "collapsed": false
    }
   }
  }
 },
 "nbformat": 4,
 "nbformat_minor": 0
}