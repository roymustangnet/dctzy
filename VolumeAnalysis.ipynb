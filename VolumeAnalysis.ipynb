{
 "cells": [
  {
   "cell_type": "markdown",
   "source": [
    "读取数据"
   ],
   "metadata": {
    "collapsed": false,
    "pycharm": {
     "name": "#%% md\n"
    }
   }
  },
  {
   "cell_type": "code",
   "execution_count": 1,
   "metadata": {
    "collapsed": true,
    "pycharm": {
     "is_executing": false,
     "name": "#%%\n"
    }
   },
   "outputs": [],
   "source": [
    "from utils import *\n",
    "from Analyzer.VolumeAnalyzer import VolumeAnalyzer\n",
    "from Analyzer.VolumeAnalyzer import Columns\n",
    "import OriginalData\n",
    "import seaborn as sns\n",
    "import matplotlib.pyplot as plt\n",
    "from matplotlib.font_manager import FontProperties\n",
    "\n",
    "\n",
    "data = OriginalData.OriginalData.batch_read()\n",
    "data = VolumeAnalyzer.process_outpatient_detail(data)"
   ]
  },
  {
   "cell_type": "code",
   "execution_count": 2,
   "outputs": [
    {
     "name": "stdout",
     "text": [
      "Index(['VISIT_DATE', 'SEX', 'AGE', 'VOLUME'], dtype='object')\n"
     ],
     "output_type": "stream"
    }
   ],
   "source": [
    "age_bins = list(range(20, 100, 10))\n",
    "age_cuts = pd.cut(data['AGE'], bins=age_bins, right=False)\n",
    "class_cols = [Columns.Date, Columns.Sex, age_cuts]\n",
    "\n",
    "vol = VolumeAnalyzer.get_outpatient_volume(data, class_cols)\n",
    "vol['SEX'] = vol['SEX'].apply(lambda x: '男' if x == 'Male' else '女')\n",
    "print(vol.columns)"
   ],
   "metadata": {
    "collapsed": false,
    "pycharm": {
     "name": "#%%\n",
     "is_executing": false
    }
   }
  },
  {
   "cell_type": "code",
   "execution_count": null,
   "outputs": [],
   "source": [
    "myfont=FontProperties(fname=r'C:\\Windows\\Fonts\\simhei.ttf',size=14)\n",
    "sns.set(font=myfont.get_name(), style='white')\n",
    "\n",
    "g = sns.boxplot(x=Columns.Age,\n",
    "            y=Columns.OutpatientVol,\n",
    "            hue=Columns.Sex,\n",
    "            data=vol,\n",
    "            )\n",
    "plt.xticks(rotation=45)\n",
    "plt.show()\n",
    "g.get_figure().savefig('boxplot_volumn_age_sex.png', dpi=600, bbox_inches = 'tight')\n",
    "\n",
    "g = sns.violinplot(x=Columns.Age,\n",
    "            y=Columns.OutpatientVol,\n",
    "            hue=Columns.Sex,\n",
    "            data=vol,\n",
    "            split=True)\n",
    "\n",
    "plt.xticks(rotation=45)\n",
    "plt.show()\n",
    "g.get_figure().savefig('violinplot_volumn_age_sex.png', dpi=600, bbox_inches = 'tight')"
   ],
   "metadata": {
    "collapsed": false,
    "pycharm": {
     "name": "#%%\n",
     "is_executing": false
    }
   }
  },
  {
   "cell_type": "code",
   "execution_count": 15,
   "outputs": [
    {
     "data": {
      "text/plain": "         AGE SEX       mean  percentile_25  median  percentile_75       std  \\\n0   [20, 30)   女  14.948315             10      15             20  6.881417   \n1   [20, 30)   男  15.663300             10      16             21  7.549759   \n2   [30, 40)   女  13.691789              8      14             18  6.645932   \n3   [30, 40)   男  10.365688              6      10             14  5.237578   \n4   [40, 50)   女  14.140607              9      15             19  6.826636   \n5   [40, 50)   男   8.143828              5       8             11  4.361335   \n6   [50, 60)   女  13.005643              8      13             18  6.446036   \n7   [50, 60)   男   5.902665              3       6              8  3.199809   \n8   [60, 70)   女   7.921502              4       8             11  4.398641   \n9   [60, 70)   男   3.922612              2       4              5  2.253071   \n10  [70, 80)   女   3.154653              2       3              4  1.827089   \n11  [70, 80)   男   1.975806              1       2              3  1.141547   \n12  [80, 90)   女   1.388747              1       1              2  0.677307   \n13  [80, 90)   男   1.366848              1       1              2  0.703195   \n\n    amin  amax  \n0      1    36  \n1      1    38  \n2      1    34  \n3      1    31  \n4      1    38  \n5      1    28  \n6      1    33  \n7      1    21  \n8      1    24  \n9      1    13  \n10     1    10  \n11     1     7  \n12     1     5  \n13     1     5  ",
      "text/html": "<div>\n<style scoped>\n    .dataframe tbody tr th:only-of-type {\n        vertical-align: middle;\n    }\n\n    .dataframe tbody tr th {\n        vertical-align: top;\n    }\n\n    .dataframe thead th {\n        text-align: right;\n    }\n</style>\n<table border=\"1\" class=\"dataframe\">\n  <thead>\n    <tr style=\"text-align: right;\">\n      <th></th>\n      <th>AGE</th>\n      <th>SEX</th>\n      <th>mean</th>\n      <th>percentile_25</th>\n      <th>median</th>\n      <th>percentile_75</th>\n      <th>std</th>\n      <th>amin</th>\n      <th>amax</th>\n    </tr>\n  </thead>\n  <tbody>\n    <tr>\n      <td>0</td>\n      <td>[20, 30)</td>\n      <td>女</td>\n      <td>14.948315</td>\n      <td>10</td>\n      <td>15</td>\n      <td>20</td>\n      <td>6.881417</td>\n      <td>1</td>\n      <td>36</td>\n    </tr>\n    <tr>\n      <td>1</td>\n      <td>[20, 30)</td>\n      <td>男</td>\n      <td>15.663300</td>\n      <td>10</td>\n      <td>16</td>\n      <td>21</td>\n      <td>7.549759</td>\n      <td>1</td>\n      <td>38</td>\n    </tr>\n    <tr>\n      <td>2</td>\n      <td>[30, 40)</td>\n      <td>女</td>\n      <td>13.691789</td>\n      <td>8</td>\n      <td>14</td>\n      <td>18</td>\n      <td>6.645932</td>\n      <td>1</td>\n      <td>34</td>\n    </tr>\n    <tr>\n      <td>3</td>\n      <td>[30, 40)</td>\n      <td>男</td>\n      <td>10.365688</td>\n      <td>6</td>\n      <td>10</td>\n      <td>14</td>\n      <td>5.237578</td>\n      <td>1</td>\n      <td>31</td>\n    </tr>\n    <tr>\n      <td>4</td>\n      <td>[40, 50)</td>\n      <td>女</td>\n      <td>14.140607</td>\n      <td>9</td>\n      <td>15</td>\n      <td>19</td>\n      <td>6.826636</td>\n      <td>1</td>\n      <td>38</td>\n    </tr>\n    <tr>\n      <td>5</td>\n      <td>[40, 50)</td>\n      <td>男</td>\n      <td>8.143828</td>\n      <td>5</td>\n      <td>8</td>\n      <td>11</td>\n      <td>4.361335</td>\n      <td>1</td>\n      <td>28</td>\n    </tr>\n    <tr>\n      <td>6</td>\n      <td>[50, 60)</td>\n      <td>女</td>\n      <td>13.005643</td>\n      <td>8</td>\n      <td>13</td>\n      <td>18</td>\n      <td>6.446036</td>\n      <td>1</td>\n      <td>33</td>\n    </tr>\n    <tr>\n      <td>7</td>\n      <td>[50, 60)</td>\n      <td>男</td>\n      <td>5.902665</td>\n      <td>3</td>\n      <td>6</td>\n      <td>8</td>\n      <td>3.199809</td>\n      <td>1</td>\n      <td>21</td>\n    </tr>\n    <tr>\n      <td>8</td>\n      <td>[60, 70)</td>\n      <td>女</td>\n      <td>7.921502</td>\n      <td>4</td>\n      <td>8</td>\n      <td>11</td>\n      <td>4.398641</td>\n      <td>1</td>\n      <td>24</td>\n    </tr>\n    <tr>\n      <td>9</td>\n      <td>[60, 70)</td>\n      <td>男</td>\n      <td>3.922612</td>\n      <td>2</td>\n      <td>4</td>\n      <td>5</td>\n      <td>2.253071</td>\n      <td>1</td>\n      <td>13</td>\n    </tr>\n    <tr>\n      <td>10</td>\n      <td>[70, 80)</td>\n      <td>女</td>\n      <td>3.154653</td>\n      <td>2</td>\n      <td>3</td>\n      <td>4</td>\n      <td>1.827089</td>\n      <td>1</td>\n      <td>10</td>\n    </tr>\n    <tr>\n      <td>11</td>\n      <td>[70, 80)</td>\n      <td>男</td>\n      <td>1.975806</td>\n      <td>1</td>\n      <td>2</td>\n      <td>3</td>\n      <td>1.141547</td>\n      <td>1</td>\n      <td>7</td>\n    </tr>\n    <tr>\n      <td>12</td>\n      <td>[80, 90)</td>\n      <td>女</td>\n      <td>1.388747</td>\n      <td>1</td>\n      <td>1</td>\n      <td>2</td>\n      <td>0.677307</td>\n      <td>1</td>\n      <td>5</td>\n    </tr>\n    <tr>\n      <td>13</td>\n      <td>[80, 90)</td>\n      <td>男</td>\n      <td>1.366848</td>\n      <td>1</td>\n      <td>1</td>\n      <td>2</td>\n      <td>0.703195</td>\n      <td>1</td>\n      <td>5</td>\n    </tr>\n  </tbody>\n</table>\n</div>"
     },
     "metadata": {},
     "output_type": "execute_result",
     "execution_count": 15
    }
   ],
   "source": [
    "import numpy as np\n",
    "\n",
    "def percentile(n):\n",
    "    def percentile_(x):\n",
    "        return np.percentile(x, n)\n",
    "    percentile_.__name__ = 'percentile_%s' % n\n",
    "    return percentile_\n",
    "result = vol.groupby(['AGE', 'SEX'])['VOLUME'].agg(\n",
    "    [np.mean, percentile(25), np.median, percentile(75), np.std, np.min, np.max])\n",
    "result = result.reset_index()\n",
    "result"
   ],
   "metadata": {
    "collapsed": false,
    "pycharm": {
     "name": "#%%\n",
     "is_executing": false
    }
   }
  },
  {
   "cell_type": "code",
   "execution_count": 10,
   "outputs": [],
   "source": [
    "\n"
   ],
   "metadata": {
    "collapsed": false,
    "pycharm": {
     "name": "#%%\n",
     "is_executing": false
    }
   }
  }
 ],
 "metadata": {
  "kernelspec": {
   "display_name": "Python 3",
   "language": "python",
   "name": "python3"
  },
  "language_info": {
   "codemirror_mode": {
    "name": "ipython",
    "version": 2
   },
   "file_extension": ".py",
   "mimetype": "text/x-python",
   "name": "python",
   "nbconvert_exporter": "python",
   "pygments_lexer": "ipython2",
   "version": "2.7.6"
  },
  "pycharm": {
   "stem_cell": {
    "cell_type": "raw",
    "source": [],
    "metadata": {
     "collapsed": false
    }
   }
  }
 },
 "nbformat": 4,
 "nbformat_minor": 0
}