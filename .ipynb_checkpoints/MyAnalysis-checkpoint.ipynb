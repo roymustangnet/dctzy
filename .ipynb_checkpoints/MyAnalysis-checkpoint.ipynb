{
 "cells": [
  {
   "cell_type": "markdown",
   "metadata": {
    "pycharm": {
     "is_executing": false,
     "name": "#%% md\n"
    }
   },
   "source": [
    "# 统计门诊数据分析\n",
    "\n",
    "使用utils中的batch_read函数来读取门诊量数据，需要注意的是，其中有一个`is_filter`字段，用来决定是否使用过滤器对读取的数据进行过滤\n",
    "\n",
    "我们提取了原始数据中的7个字段：\n",
    "- 病人ID\n",
    "- 访问日期\n",
    "- 性别\n",
    "- 诊断结果\n",
    "- 病情描述\n",
    "- 病历\n",
    "- 身体检查结果\n"
   ]
  },
  {
   "cell_type": "code",
   "execution_count": 1,
   "metadata": {
    "pycharm": {
     "is_executing": false,
     "name": "#%% \n"
    },
    "scrolled": false
   },
   "outputs": [
    {
     "name": "stderr",
     "output_type": "stream",
     "text": [
      "D:\\ProgramData\\Anaconda3\\lib\\site-packages\\IPython\\core\\interactiveshell.py:3326: DtypeWarning: Columns (6) have mixed types. Specify dtype option on import or set low_memory=False.\n",
      "  exec(code_obj, self.user_global_ns, self.user_ns)\n",
      "D:\\ProgramData\\Anaconda3\\lib\\site-packages\\pandas\\core\\strings.py:1843: UserWarning: This pattern has match groups. To actually get the groups, use str.extract.\n",
      "  return func(self, *args, **kwargs)\n"
     ]
    },
    {
     "data": {
      "text/html": [
       "<div>\n",
       "<style scoped>\n",
       "    .dataframe tbody tr th:only-of-type {\n",
       "        vertical-align: middle;\n",
       "    }\n",
       "\n",
       "    .dataframe tbody tr th {\n",
       "        vertical-align: top;\n",
       "    }\n",
       "\n",
       "    .dataframe thead th {\n",
       "        text-align: right;\n",
       "    }\n",
       "</style>\n",
       "<table border=\"1\" class=\"dataframe\">\n",
       "  <thead>\n",
       "    <tr style=\"text-align: right;\">\n",
       "      <th></th>\n",
       "      <th>PATIENT_ID</th>\n",
       "      <th>VISIT_DATE</th>\n",
       "      <th>SEX</th>\n",
       "      <th>DIAG_DESC</th>\n",
       "      <th>ILLNESS_DESC</th>\n",
       "      <th>MED_HISTORY</th>\n",
       "      <th>BODY_EXAM</th>\n",
       "    </tr>\n",
       "  </thead>\n",
       "  <tbody>\n",
       "    <tr>\n",
       "      <td>0</td>\n",
       "      <td>97251747</td>\n",
       "      <td>2016/1/1</td>\n",
       "      <td>女</td>\n",
       "      <td>抑郁症</td>\n",
       "      <td>服药1年，病情稳定。</td>\n",
       "      <td>无</td>\n",
       "      <td>无</td>\n",
       "    </tr>\n",
       "    <tr>\n",
       "      <td>1</td>\n",
       "      <td>96326999</td>\n",
       "      <td>2016/1/1</td>\n",
       "      <td>女</td>\n",
       "      <td>精神分裂症；抑郁症；双相情感障碍</td>\n",
       "      <td>发呆自笑、自言自语2月。</td>\n",
       "      <td>2月前，无诱因出现自言自语，发呆，自笑，有时手在空中比划，丈夫同事发觉异常，但生活可自理，照...</td>\n",
       "      <td>无</td>\n",
       "    </tr>\n",
       "    <tr>\n",
       "      <td>2</td>\n",
       "      <td>98762271</td>\n",
       "      <td>2016/1/1</td>\n",
       "      <td>男</td>\n",
       "      <td>焦虑抑郁状态</td>\n",
       "      <td>情绪低落、紧张、害怕3月。</td>\n",
       "      <td>3月来夜间做噩梦，惊醒后不能再次入睡困难，心慌，心急，心跳快，高兴不起来，自责，担心自己不能...</td>\n",
       "      <td>接触可，表情忧虑，担心，害怕，情绪低落。</td>\n",
       "    </tr>\n",
       "    <tr>\n",
       "      <td>3</td>\n",
       "      <td>98545813</td>\n",
       "      <td>2016/1/1</td>\n",
       "      <td>女</td>\n",
       "      <td>抑郁症；躯体化形式障碍</td>\n",
       "      <td>服药后喉咙干涩、烧灼感减轻，仍感嘴里发辣、涩，情绪好转，能干家务。</td>\n",
       "      <td>1年前无明显诱因开始出现心慌心急，心烦，憋闷感，又感到喉咙、嘴唇烧灼；头木；睡眠尚可，目前服...</td>\n",
       "      <td>无</td>\n",
       "    </tr>\n",
       "    <tr>\n",
       "      <td>6</td>\n",
       "      <td>98781460</td>\n",
       "      <td>2016/1/1</td>\n",
       "      <td>男</td>\n",
       "      <td>双相情感障碍；精神分裂样精神病；抑郁症</td>\n",
       "      <td>间断言行异常10余年，再发3天。</td>\n",
       "      <td>2002年出现情绪低落，高兴不起来，消极悲观，住院10余天，恢复正常。此后一切如常。2015...</td>\n",
       "      <td>精神检查：意识清，检查合作，存在被害被监控妄想，自知力不存在。</td>\n",
       "    </tr>\n",
       "  </tbody>\n",
       "</table>\n",
       "</div>"
      ],
      "text/plain": [
       "  PATIENT_ID VISIT_DATE SEX            DIAG_DESC  \\\n",
       "0   97251747   2016/1/1   女                  抑郁症   \n",
       "1   96326999   2016/1/1   女     精神分裂症；抑郁症；双相情感障碍   \n",
       "2   98762271   2016/1/1   男               焦虑抑郁状态   \n",
       "3   98545813   2016/1/1   女          抑郁症；躯体化形式障碍   \n",
       "6   98781460   2016/1/1   男  双相情感障碍；精神分裂样精神病；抑郁症   \n",
       "\n",
       "                        ILLNESS_DESC  \\\n",
       "0                         服药1年，病情稳定。   \n",
       "1                       发呆自笑、自言自语2月。   \n",
       "2                      情绪低落、紧张、害怕3月。   \n",
       "3  服药后喉咙干涩、烧灼感减轻，仍感嘴里发辣、涩，情绪好转，能干家务。   \n",
       "6                   间断言行异常10余年，再发3天。   \n",
       "\n",
       "                                         MED_HISTORY  \\\n",
       "0                                                  无   \n",
       "1  2月前，无诱因出现自言自语，发呆，自笑，有时手在空中比划，丈夫同事发觉异常，但生活可自理，照...   \n",
       "2  3月来夜间做噩梦，惊醒后不能再次入睡困难，心慌，心急，心跳快，高兴不起来，自责，担心自己不能...   \n",
       "3  1年前无明显诱因开始出现心慌心急，心烦，憋闷感，又感到喉咙、嘴唇烧灼；头木；睡眠尚可，目前服...   \n",
       "6  2002年出现情绪低落，高兴不起来，消极悲观，住院10余天，恢复正常。此后一切如常。2015...   \n",
       "\n",
       "                         BODY_EXAM  \n",
       "0                                无  \n",
       "1                                无  \n",
       "2             接触可，表情忧虑，担心，害怕，情绪低落。  \n",
       "3                                无  \n",
       "6  精神检查：意识清，检查合作，存在被害被监控妄想，自知力不存在。  "
      ]
     },
     "execution_count": 1,
     "metadata": {},
     "output_type": "execute_result"
    }
   ],
   "source": [
    "# -*- coding:utf-8 -*-\n",
    "from utils import *\n",
    "from Analyzer import OutpatientVolAnalyzer\n",
    "\n",
    "topK = 30\n",
    "# 过滤了复诊取药的数据\n",
    "data = batch_read(cols=['PATIENT_ID', 'VISIT_DATE', 'SEX', \n",
    "                        'DIAG_DESC', 'ILLNESS_DESC', 'MED_HISTORY',\n",
    "                        'BODY_EXAM'])\n",
    "# 未过滤复诊取药的数据\n",
    "no_filter_data = batch_read(cols=['PATIENT_ID', 'VISIT_DATE', 'SEX', \n",
    "                        'DIAG_DESC', 'ILLNESS_DESC', 'MED_HISTORY',\n",
    "                        'BODY_EXAM'], is_filter = False)\n",
    "data.head()"
   ]
  },
  {
   "cell_type": "markdown",
   "metadata": {},
   "source": [
    "OutpatientVolAnalyzer是一个用于对门诊量数据进行分析的类，我们实现了三种方法对词按照其重要性进行排序的方法，分别是：\n",
    "- TF-IDF\n",
    "- Textrank\n",
    "- Frequency（词出现的频率）\n",
    "\n",
    "# 病情描述字段的重要词排序（名词）\n",
    "\n",
    "下面是对病情描述字段进行分析后的结果，可以发现，在病人描述字段中，经过分词以后得到的重要程度比较高的是（三种方法的交集，按照TF-IDF进行排序）：\n",
    "- 气短\n",
    "- 不适感\n",
    "- 家人\n",
    "- 症状\n",
    "- 出院\n",
    "- 服药\n",
    "- 情绪\n",
    "- 家属\n",
    "- 兴趣\n",
    "- 胸闷\n",
    "- 言行\n",
    "- 月余\n",
    "- 情绪低落\n",
    "- 躯体\n",
    "- 母亲\n",
    "- 头痛\n",
    "- 患者\n",
    "- 病史\n",
    "- 病情\n",
    "- 心理\n",
    "- 凭空\n",
    "- 头晕"
   ]
  },
  {
   "cell_type": "code",
   "execution_count": 2,
   "metadata": {
    "pycharm": {
     "is_executing": false,
     "name": "#%% \n"
    },
    "scrolled": false
   },
   "outputs": [
    {
     "name": "stderr",
     "output_type": "stream",
     "text": [
      "Building prefix dict from the default dictionary ...\n",
      "Loading model from cache C:\\Users\\01\\AppData\\Local\\Temp\\jieba.cache\n",
      "Loading model cost 0.690 seconds.\n",
      "Prefix dict has been built succesfully.\n"
     ]
    },
    {
     "name": "stdout",
     "output_type": "stream",
     "text": [
      "Computing TF-IDF...\n",
      "Computing TextRank...\n",
      "Computing Frequency...\n",
      "top 30 intersection are:\n",
      "         tfidf  textrank    freq\n",
      "气短    0.146851  0.192053  1324.0\n",
      "不适感   0.077615  0.110521   595.0\n",
      "家人    0.061438  0.090328   727.0\n",
      "症状    0.142107  0.218845  1786.0\n",
      "出院    0.179123  0.153002  1710.0\n",
      "服药    0.249690  0.318328  2315.0\n",
      "情绪    0.467197  0.483920  6392.0\n",
      "家属    0.311646  0.355565  3360.0\n",
      "兴趣    0.074557  0.082381   899.0\n",
      "胸闷    0.159364  0.195679  1441.0\n",
      "言行    0.188636  0.114836  1742.0\n",
      "月余    0.410134  0.487119  3257.0\n",
      "情绪低落  1.180735  0.554723  9125.0\n",
      "躯体    0.217614  0.258847  2174.0\n",
      "母亲    0.045059  0.083163   641.0\n",
      "头痛    0.097841  0.119389  1028.0\n",
      "患者    0.503209  1.000000  6569.0\n",
      "病史    0.439888  0.611758  4072.0\n",
      "病情    0.201490  0.376169  2284.0\n",
      "心理    0.094710  0.184801  1251.0\n",
      "凭空    0.073827  0.072894   656.0\n",
      "头晕    0.085807  0.109815   851.0\n"
     ]
    }
   ],
   "source": [
    "analyzer = OutpatientVolAnalyzer(data, focused_fields = ['ILLNESS_DESC'])\n",
    "ill_des_result = compute_term_rank(analyzer, topK)\n",
    "display_term_rank_result(ill_des_result)"
   ]
  },
  {
   "cell_type": "markdown",
   "metadata": {},
   "source": [
    "# 诊断结果字段的重要词排序（名词）\n",
    "\n",
    "同样的，我们还可以得到诊断结果字段中，重要的词项，从下面的结果中可以看出主要包括：\n",
    "- 综合征\n",
    "- 精神障碍\n",
    "- 儿童\n",
    "- 焦虑症\n",
    "- 状态\n",
    "- 症状\n",
    "- 复发性\n",
    "- 情绪\n",
    "- 癫痫\n",
    "- 精神分裂症\n",
    "- 强迫症\n",
    "- 性神经症\n",
    "- 强迫观念\n",
    "- 形式\n",
    "- 糖尿病\n",
    "- 躯体\n",
    "- 精神病\n",
    "- 器质性\n",
    "- 高血压\n",
    "- 强迫性\n",
    "- 功能障碍\n",
    "- 幻觉\n",
    "- 精神\n",
    "- 障碍\n",
    "- 疾病"
   ]
  },
  {
   "cell_type": "code",
   "execution_count": 9,
   "metadata": {
    "pycharm": {
     "is_executing": false,
     "name": "#%%\n"
    }
   },
   "outputs": [
    {
     "name": "stdout",
     "output_type": "stream",
     "text": [
      "Computing TF-IDF...\n",
      "Computing TextRank...\n",
      "Computing Frequency...\n",
      "top 30 intersection are:\n",
      "          tfidf  textrank     freq\n",
      "综合征    0.022292  0.020055    364.0\n",
      "精神障碍   0.420465  0.230533   5363.0\n",
      "儿童     0.055320  0.057884   1096.0\n",
      "焦虑症    0.802830  0.290863   9669.0\n",
      "状态     1.383424  1.000000  33359.0\n",
      "症状     0.121011  0.086483   2474.0\n",
      "复发性    0.066193  0.020227    713.0\n",
      "情绪     0.205114  0.200208   4565.0\n",
      "癫痫     0.042589  0.026928    593.0\n",
      "精神分裂症  1.182516  0.526521  15182.0\n",
      "强迫症    0.142783  0.054653   1610.0\n",
      "性神经症   0.063918  0.020363    701.0\n",
      "强迫观念   0.054138  0.019033    525.0\n",
      "形式     0.129343  0.171242   3471.0\n",
      "糖尿病    0.022560  0.022203    394.0\n",
      "躯体     0.375731  0.290595   6106.0\n",
      "精神病    0.318755  0.162680   4826.0\n",
      "器质性    0.214942  0.118421   2934.0\n",
      "高血压    0.047666  0.047813    805.0\n",
      "强迫性    0.096476  0.048120   1074.0\n",
      "功能障碍   0.036519  0.020970    534.0\n",
      "幻觉     0.036349  0.023463    554.0\n",
      "精神     0.057948  0.049799   1390.0\n",
      "障碍     1.183274  0.879174  23254.0\n",
      "疾病     0.102525  0.102261   2238.0\n"
     ]
    }
   ],
   "source": [
    "analyzer = OutpatientVolAnalyzer(data, focused_fields = ['DIAG_DESC'])\n",
    "diag_des_result = compute_term_rank(analyzer, topK)\n",
    "display_term_rank_result(diag_des_result)"
   ]
  },
  {
   "cell_type": "markdown",
   "metadata": {},
   "source": [
    "# 病历字段的重要词排序（名词）\n",
    "\n",
    "从病历字段中可以得到的重要的词项主要包括：\n",
    "- 药物\n",
    "- 家人\n",
    "- 诱因\n",
    "- 家族史\n",
    "- 症状\n",
    "- 服药\n",
    "- 记忆力\n",
    "- 情绪\n",
    "- 胸闷\n",
    "- 心情\n",
    "- 医院\n",
    "- 情绪低落\n",
    "- 食欲\n",
    "- 体健\n",
    "- 头痛\n",
    "- 患者\n",
    "- 病史\n",
    "- 病情\n",
    "- 基本\n",
    "- 精神\n",
    "- 感觉"
   ]
  },
  {
   "cell_type": "code",
   "execution_count": 4,
   "metadata": {
    "pycharm": {
     "is_executing": false,
     "name": "#%%\n"
    }
   },
   "outputs": [
    {
     "name": "stdout",
     "output_type": "stream",
     "text": [
      "Computing TF-IDF...\n",
      "Computing TextRank...\n",
      "Computing Frequency...\n",
      "top 30 intersection are:\n",
      "         tfidf  textrank     freq\n",
      "药物    0.138918  0.670754  13781.0\n",
      "家人    0.067357  0.413443   6133.0\n",
      "诱因    0.111612  0.212890   7905.0\n",
      "家族史   0.092524  0.348913   5805.0\n",
      "症状    0.235465  0.946940  22771.0\n",
      "服药    0.300782  0.918988  21458.0\n",
      "记忆力   0.077513  0.233433   5334.0\n",
      "情绪    0.190910  0.758243  20098.0\n",
      "胸闷    0.068960  0.268948   4798.0\n",
      "心情    0.069152  0.267636   6945.0\n",
      "医院    0.063866  0.392515   6946.0\n",
      "情绪低落  0.214206  0.438790  12738.0\n",
      "食欲    0.110633  0.307567   8043.0\n",
      "体健    0.096320  0.222092   5072.0\n",
      "头痛    0.066249  0.282421   5356.0\n",
      "患者    0.192638  1.000000  19350.0\n",
      "病史    0.133135  0.436608   9483.0\n",
      "病情    0.224253  0.748927  19560.0\n",
      "基本    0.045359  0.359868   6024.0\n",
      "精神    0.058486  0.348503   6636.0\n",
      "感觉    0.102950  0.786501  11636.0\n"
     ]
    }
   ],
   "source": [
    "analyzer = OutpatientVolAnalyzer(no_filter_data, focused_fields = ['MED_HISTORY'])\n",
    "med_history_result = compute_term_rank(analyzer, topK)\n",
    "display_term_rank_result(med_history_result)"
   ]
  },
  {
   "cell_type": "markdown",
   "metadata": {},
   "source": [
    "# 检查结果字段的重要词排序（名词）\n",
    "\n",
    "从病历字段中可以得到的重要的词项主要包括：\n",
    "- 思维\n",
    "- 症状\n",
    "- 记忆力\n",
    "- 情绪\n",
    "- 情感\n",
    "- 兴趣\n",
    "- 表情\n",
    "- 观念\n",
    "- 心情\n",
    "- 交流\n",
    "- 意志\n",
    "- 情绪低落\n",
    "- 体验\n",
    "- 食欲\n",
    "- 躯体\n",
    "- 精神病\n",
    "- 意识\n",
    "- 神志\n",
    "- 消极\n",
    "- 病情\n",
    "- 幻觉\n",
    "- 切题\n",
    "- 精神"
   ]
  },
  {
   "cell_type": "code",
   "execution_count": 15,
   "metadata": {
    "pycharm": {
     "is_executing": false
    }
   },
   "outputs": [
    {
     "name": "stdout",
     "output_type": "stream",
     "text": [
      "Computing TF-IDF...\n",
      "Computing TextRank...\n",
      "Computing Frequency...\n",
      "top 30 intersection are:\n",
      "         tfidf  textrank     freq\n",
      "思维    0.151249  0.374130   2647.0\n",
      "症状    0.289281  0.573241   5627.0\n",
      "记忆力   0.092042  0.149008   1274.0\n",
      "情绪    0.142809  0.332677   3024.0\n",
      "情感    0.156900  0.164037   2701.0\n",
      "兴趣    0.056746  0.105344   1059.0\n",
      "表情    0.333122  0.250166   6203.0\n",
      "观念    0.085227  0.207133   1598.0\n",
      "心情    0.073314  0.202100   1481.0\n",
      "交流    0.142190  0.320742   2689.0\n",
      "意志    0.232739  0.296707   4015.0\n",
      "情绪低落  0.229662  0.305988   2747.0\n",
      "体验    0.902767  0.920966  15577.0\n",
      "食欲    0.066813  0.098695    977.0\n",
      "躯体    0.143644  0.283633   2221.0\n",
      "精神病   0.313226  0.600633   4512.0\n",
      "意识    0.522173  0.619712  10490.0\n",
      "神志    0.117770  0.122216   1616.0\n",
      "消极    0.089892  0.212475   1439.0\n",
      "病情    0.037277  0.090562    654.0\n",
      "幻觉    0.326182  0.512584   4730.0\n",
      "切题    0.784199  1.000000   8306.0\n",
      "精神    0.223204  0.326495   5094.0\n"
     ]
    }
   ],
   "source": [
    "analyzer = OutpatientVolAnalyzer(no_filter_data, focused_fields = ['BODY_EXAM'])\n",
    "body_exam_result = compute_term_rank(analyzer, topK)\n",
    "display_term_rank_result(body_exam_result)"
   ]
  },
  {
   "cell_type": "markdown",
   "metadata": {
    "pycharm": {
     "is_executing": false
    }
   },
   "source": [
    "# 病情描述字段的重要词排序（形容词）\n",
    "\n",
    "- 烦躁\n",
    "- 孤僻\n",
    "- 疲乏\n",
    "- 敏感\n",
    "- 不安\n",
    "- 悲观\n",
    "- 乏困\n",
    "- 急躁\n",
    "- 郁闷\n",
    "- 稳定\n",
    "- 焦虑\n",
    "- 心慌\n",
    "- 乏力\n",
    "- 不适\n",
    "- 强迫\n",
    "- 不稳\n",
    "- 心急\n",
    "- 明显\n",
    "- 紧张\n",
    "- 抑郁\n",
    "- 心烦"
   ]
  },
  {
   "cell_type": "code",
   "execution_count": 11,
   "metadata": {},
   "outputs": [
    {
     "name": "stdout",
     "output_type": "stream",
     "text": [
      "Computing TF-IDF...\n",
      "Computing TextRank...\n",
      "Computing Frequency...\n",
      "top 30 intersection are:\n",
      "       tfidf  textrank     freq\n",
      "烦躁  0.238723  0.113278   1109.0\n",
      "孤僻  0.099515  0.031589    373.0\n",
      "疲乏  0.042455  0.023785    183.0\n",
      "敏感  0.164363  0.063916    928.0\n",
      "不安  0.054817  0.061956    305.0\n",
      "悲观  0.136572  0.067899    685.0\n",
      "乏困  0.079122  0.024366    224.0\n",
      "急躁  0.038419  0.029337    163.0\n",
      "郁闷  0.568188  0.386168   2469.0\n",
      "稳定  0.314464  0.094098   2394.0\n",
      "焦虑  0.115965  0.057740    554.0\n",
      "心慌  0.811038  0.425933   3656.0\n",
      "乏力  0.130518  0.075718    634.0\n",
      "不适  0.505339  0.201244   2462.0\n",
      "强迫  0.067328  0.055900    343.0\n",
      "不稳  0.284592  0.037503   1352.0\n",
      "心急  0.976758  0.668021   3933.0\n",
      "明显  0.044682  0.032089    379.0\n",
      "紧张  0.469812  0.300166   3051.0\n",
      "抑郁  0.086245  0.035902    377.0\n",
      "心烦  2.473103  1.000000  10956.0\n"
     ]
    }
   ],
   "source": [
    "analyzer = OutpatientVolAnalyzer(data, focused_fields = ['ILLNESS_DESC'])\n",
    "ill_des_result_a = compute_term_rank(analyzer, topK, ['a'])\n",
    "display_term_rank_result(ill_des_result_a)"
   ]
  },
  {
   "cell_type": "markdown",
   "metadata": {},
   "source": [
    "# 诊断结果字段的重要词排序（形容词）\n",
    "- 紊乱\n",
    "- 不足\n",
    "- 干燥\n",
    "- 不安\n",
    "- 焦虑\n",
    "- 一般\n",
    "- 心慌\n",
    "- 不适\n",
    "- 消瘦\n",
    "- 疲劳\n",
    "- 便秘\n",
    "- 头疼\n",
    "- 迟滞\n",
    "- 疏松\n",
    "- 强迫\n",
    "- 躁狂\n",
    "- 恶劣\n",
    "- 恐怖\n",
    "- 惊恐\n",
    "- 明显\n",
    "- 抑郁"
   ]
  },
  {
   "cell_type": "code",
   "execution_count": 12,
   "metadata": {
    "scrolled": false
   },
   "outputs": [
    {
     "name": "stdout",
     "output_type": "stream",
     "text": [
      "Computing TF-IDF...\n",
      "Computing TextRank...\n",
      "Computing Frequency...\n",
      "top 30 intersection are:\n",
      "       tfidf  textrank     freq\n",
      "紊乱  0.007636  0.008012     51.0\n",
      "不足  0.000843  0.007399      8.0\n",
      "干燥  0.001420  0.007479     11.0\n",
      "不安  0.001435  0.007453     11.0\n",
      "焦虑  4.053902  1.000000  26680.0\n",
      "一般  0.000637  0.007550      8.0\n",
      "心慌  0.003221  0.015266     20.0\n",
      "不适  0.011770  0.008778     79.0\n",
      "消瘦  0.001771  0.007507     11.0\n",
      "疲劳  0.002251  0.011889     16.0\n",
      "便秘  0.002202  0.009840     14.0\n",
      "头疼  0.001735  0.007459     11.0\n",
      "迟滞  0.207135  0.016166   1149.0\n",
      "疏松  0.013139  0.012840     84.0\n",
      "强迫  0.330422  0.071088   2319.0\n",
      "躁狂  0.076735  0.011186    367.0\n",
      "恶劣  0.017172  0.009737    121.0\n",
      "恐怖  0.002973  0.007507     21.0\n",
      "惊恐  0.059013  0.015525    390.0\n",
      "明显  0.001027  0.007374     12.0\n",
      "抑郁  3.775662  0.874158  22737.0\n"
     ]
    }
   ],
   "source": [
    "analyzer = OutpatientVolAnalyzer(data, focused_fields = ['DIAG_DESC'])\n",
    "diag_des_result_a = compute_term_rank(analyzer, topK, ['a'])\n",
    "display_term_rank_result(diag_des_result_a)"
   ]
  },
  {
   "cell_type": "markdown",
   "metadata": {},
   "source": [
    "# 病历字段的重要词排序（形容词）\n",
    "\n",
    "- 烦躁\n",
    "- 疲乏\n",
    "- 敏感\n",
    "- 悲观\n",
    "- 郁闷\n",
    "- 稳定\n",
    "- 焦虑\n",
    "- 一般\n",
    "- 心慌\n",
    "- 乏力\n",
    "- 不适\n",
    "- 容易\n",
    "- 心急\n",
    "- 严重\n",
    "- 有效\n",
    "- 明显\n",
    "- 紧张\n",
    "- 抑郁\n",
    "- 心烦"
   ]
  },
  {
   "cell_type": "code",
   "execution_count": 13,
   "metadata": {},
   "outputs": [
    {
     "name": "stdout",
     "output_type": "stream",
     "text": [
      "Computing TF-IDF...\n",
      "Computing TextRank...\n",
      "Computing Frequency...\n",
      "top 30 intersection are:\n",
      "       tfidf  textrank     freq\n",
      "烦躁  0.347168  0.295520   5323.0\n",
      "疲乏  0.127860  0.078245   1819.0\n",
      "敏感  0.086988  0.051692   1621.0\n",
      "悲观  0.171195  0.088720   2834.0\n",
      "郁闷  0.163227  0.104367   2341.0\n",
      "稳定  0.129146  0.079432   3245.0\n",
      "焦虑  0.301063  0.241020   4747.0\n",
      "一般  0.054170  0.049874   1631.0\n",
      "心慌  0.587444  0.579123   8740.0\n",
      "乏力  0.183378  0.129098   2940.0\n",
      "不适  0.308334  0.232927   4958.0\n",
      "容易  0.097327  0.174481   2335.0\n",
      "心急  0.869316  1.000000  11553.0\n",
      "严重  0.073785  0.047857   1799.0\n",
      "有效  0.086280  0.048229   2116.0\n",
      "明显  0.387887  0.254990  10859.0\n",
      "紧张  0.365918  0.370358   7843.0\n",
      "抑郁  0.244257  0.172487   3524.0\n",
      "心烦  0.971793  0.927010  14209.0\n"
     ]
    }
   ],
   "source": [
    "analyzer = OutpatientVolAnalyzer(data, focused_fields = ['MED_HISTORY'])\n",
    "med_history_result_a = compute_term_rank(analyzer, topK, ['a'])\n",
    "display_term_rank_result(med_history_result_a)"
   ]
  },
  {
   "cell_type": "markdown",
   "metadata": {},
   "source": [
    "# 检查结果字段的重要词排序（形容词）\n",
    "\n",
    "- 平淡\n",
    "- 稳定\n",
    "- 清楚\n",
    "- 心急\n",
    "- 焦虑\n",
    "- 一般\n",
    "- 完整\n",
    "- 明显\n",
    "- 紧张\n",
    "- 心慌\n",
    "- 强迫\n",
    "- 不适\n",
    "- 烦躁\n",
    "- 适切\n",
    "- 敏感\n",
    "- 抑郁\n",
    "- 悲观\n",
    "- 心烦"
   ]
  },
  {
   "cell_type": "code",
   "execution_count": 16,
   "metadata": {},
   "outputs": [
    {
     "name": "stdout",
     "output_type": "stream",
     "text": [
      "Computing TF-IDF...\n",
      "Computing TextRank...\n",
      "Computing Frequency...\n",
      "top 30 intersection are:\n",
      "       tfidf  textrank     freq\n",
      "平淡  0.066237  0.038355    496.0\n",
      "稳定  0.031977  0.036142    391.0\n",
      "清楚  0.505526  0.121865   5656.0\n",
      "心急  0.247705  0.209736   1602.0\n",
      "焦虑  2.215265  1.000000  16998.0\n",
      "一般  0.151377  0.178830   2218.0\n",
      "完整  0.047801  0.034267    467.0\n",
      "明显  0.288175  0.318516   3926.0\n",
      "紧张  0.148697  0.117838   1551.0\n",
      "心慌  0.090466  0.068367    655.0\n",
      "强迫  0.156307  0.087178   1279.0\n",
      "不适  0.194883  0.094381   1525.0\n",
      "烦躁  0.137372  0.093642   1025.0\n",
      "适切  0.439631  0.154147   2104.0\n",
      "敏感  0.046755  0.023215    424.0\n",
      "抑郁  2.003986  0.855738  14070.0\n",
      "悲观  0.126242  0.069163   1017.0\n",
      "心烦  0.347556  0.221712   2473.0\n"
     ]
    }
   ],
   "source": [
    "analyzer = OutpatientVolAnalyzer(no_filter_data, focused_fields = ['BODY_EXAM'])\n",
    "body_exam_result_a = compute_term_rank(analyzer, topK, ['a'])\n",
    "display_term_rank_result(body_exam_result_a)"
   ]
  },
  {
   "cell_type": "code",
   "execution_count": null,
   "metadata": {},
   "outputs": [],
   "source": []
  }
 ],
 "metadata": {
  "kernelspec": {
   "display_name": "Python 3",
   "language": "python",
   "name": "python3"
  },
  "language_info": {
   "codemirror_mode": {
    "name": "ipython",
    "version": 3
   },
   "file_extension": ".py",
   "mimetype": "text/x-python",
   "name": "python",
   "nbconvert_exporter": "python",
   "pygments_lexer": "ipython3",
   "version": "3.7.4"
  },
  "pycharm": {
   "stem_cell": {
    "cell_type": "raw",
    "metadata": {
     "collapsed": false
    },
    "source": []
   }
  }
 },
 "nbformat": 4,
 "nbformat_minor": 1
}
